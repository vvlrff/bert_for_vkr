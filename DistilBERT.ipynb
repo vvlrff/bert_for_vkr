{
 "cells": [
  {
   "cell_type": "code",
   "execution_count": 3,
   "metadata": {},
   "outputs": [],
   "source": [
    "import pandas as pd\n",
    "from sklearn.model_selection import train_test_split\n",
    "from torch.utils.data import DataLoader, TensorDataset\n",
    "from transformers import AutoTokenizer, AutoModelForSequenceClassification, AdamW\n",
    "import torch\n",
    "from sklearn.metrics import accuracy_score\n",
    "from torch.cuda.amp import autocast"
   ]
  },
  {
   "cell_type": "code",
   "execution_count": 4,
   "metadata": {},
   "outputs": [
    {
     "name": "stdout",
     "output_type": "stream",
     "text": [
      "True\n"
     ]
    }
   ],
   "source": [
    "print(torch.cuda.is_available())\n"
   ]
  },
  {
   "cell_type": "code",
   "execution_count": 5,
   "metadata": {},
   "outputs": [
    {
     "name": "stdout",
     "output_type": "stream",
     "text": [
      "Using device: cuda\n"
     ]
    }
   ],
   "source": [
    "# Проверяем доступность GPU\n",
    "device = torch.device(\"cuda\" if torch.cuda.is_available() else \"cpu\")\n",
    "print(f\"Using device: {device}\")"
   ]
  },
  {
   "cell_type": "code",
   "execution_count": 6,
   "metadata": {},
   "outputs": [],
   "source": [
    "# Загрузка данных из CSV-файла\n",
    "df = pd.read_csv('your_dataset.csv')  # Замените 'your_dataset.csv' на путь к вашему файлу CSV\n",
    "\n",
    "# Разделение данных на обучающий и тестовый наборы\n",
    "train_df, test_df = train_test_split(df, test_size=0.2, random_state=42)\n",
    "\n",
    "# Подготовка текстов и меток\n",
    "train_texts, train_labels = train_df['news_headline'].tolist(), train_df['category_num'].tolist()\n",
    "test_texts, test_labels = test_df['news_headline'].tolist(), test_df['category_num'].tolist()"
   ]
  },
  {
   "cell_type": "code",
   "execution_count": 7,
   "metadata": {},
   "outputs": [
    {
     "data": {
      "application/vnd.jupyter.widget-view+json": {
       "model_id": "93707f147fd44bbd8efc47e9406aa260",
       "version_major": 2,
       "version_minor": 0
      },
      "text/plain": [
       "Downloading tokenizer_config.json:   0%|          | 0.00/28.0 [00:00<?, ?B/s]"
      ]
     },
     "metadata": {},
     "output_type": "display_data"
    },
    {
     "name": "stderr",
     "output_type": "stream",
     "text": [
      "c:\\Users\\vvlrff\\AppData\\Local\\Programs\\Python\\Python310\\lib\\site-packages\\huggingface_hub\\file_download.py:133: UserWarning: `huggingface_hub` cache-system uses symlinks by default to efficiently store duplicated files but your machine does not support them in C:\\Users\\vvlrff\\.cache\\huggingface\\hub. Caching files will still work but in a degraded version that might require more space on your disk. This warning can be disabled by setting the `HF_HUB_DISABLE_SYMLINKS_WARNING` environment variable. For more details, see https://huggingface.co/docs/huggingface_hub/how-to-cache#limitations.\n",
      "To support symlinks on Windows, you either need to activate Developer Mode or to run Python as an administrator. In order to see activate developer mode, see this article: https://docs.microsoft.com/en-us/windows/apps/get-started/enable-your-device-for-development\n",
      "  warnings.warn(message)\n"
     ]
    },
    {
     "data": {
      "application/vnd.jupyter.widget-view+json": {
       "model_id": "4d8573391b744f74ab70625e91c3f9d6",
       "version_major": 2,
       "version_minor": 0
      },
      "text/plain": [
       "Downloading config.json:   0%|          | 0.00/483 [00:00<?, ?B/s]"
      ]
     },
     "metadata": {},
     "output_type": "display_data"
    },
    {
     "data": {
      "application/vnd.jupyter.widget-view+json": {
       "model_id": "da3fc07743b443f68b0ef0921f8faedc",
       "version_major": 2,
       "version_minor": 0
      },
      "text/plain": [
       "Downloading vocab.txt:   0%|          | 0.00/232k [00:00<?, ?B/s]"
      ]
     },
     "metadata": {},
     "output_type": "display_data"
    },
    {
     "data": {
      "application/vnd.jupyter.widget-view+json": {
       "model_id": "360614511ac1452e9c2a3a3a6c54d524",
       "version_major": 2,
       "version_minor": 0
      },
      "text/plain": [
       "Downloading tokenizer.json:   0%|          | 0.00/466k [00:00<?, ?B/s]"
      ]
     },
     "metadata": {},
     "output_type": "display_data"
    },
    {
     "data": {
      "application/vnd.jupyter.widget-view+json": {
       "model_id": "379c4081f9cb4f20875a587c8877146e",
       "version_major": 2,
       "version_minor": 0
      },
      "text/plain": [
       "Downloading model.safetensors:   0%|          | 0.00/268M [00:00<?, ?B/s]"
      ]
     },
     "metadata": {},
     "output_type": "display_data"
    },
    {
     "name": "stderr",
     "output_type": "stream",
     "text": [
      "Some weights of DistilBertForSequenceClassification were not initialized from the model checkpoint at distilbert-base-uncased and are newly initialized: ['pre_classifier.bias', 'classifier.weight', 'pre_classifier.weight', 'classifier.bias']\n",
      "You should probably TRAIN this model on a down-stream task to be able to use it for predictions and inference.\n",
      "Some weights of DistilBertForSequenceClassification were not initialized from the model checkpoint at distilbert-base-uncased and are newly initialized: ['pre_classifier.bias', 'classifier.weight', 'pre_classifier.weight', 'classifier.bias']\n",
      "You should probably TRAIN this model on a down-stream task to be able to use it for predictions and inference.\n",
      "c:\\Users\\vvlrff\\AppData\\Local\\Programs\\Python\\Python310\\lib\\site-packages\\transformers\\optimization.py:411: FutureWarning: This implementation of AdamW is deprecated and will be removed in a future version. Use the PyTorch implementation torch.optim.AdamW instead, or set `no_deprecation_warning=True` to disable this warning\n",
      "  warnings.warn(\n"
     ]
    }
   ],
   "source": [
    "# Инициализация токенизатора и преобразование текста в токены\n",
    "tokenizer = AutoTokenizer.from_pretrained('distilbert-base-uncased')\n",
    "train_encodings = tokenizer(train_texts, truncation=True, padding=True, max_length=128, return_tensors='pt')\n",
    "test_encodings = tokenizer(test_texts, truncation=True, padding=True, max_length=128, return_tensors='pt')\n",
    "\n",
    "# Преобразование меток в тензоры\n",
    "train_labels = torch.tensor(train_labels)\n",
    "test_labels = torch.tensor(test_labels)\n",
    "\n",
    "# Создание DataLoader для обучения и тестирования\n",
    "train_dataset = TensorDataset(train_encodings['input_ids'], train_encodings['attention_mask'], train_labels)\n",
    "test_dataset = TensorDataset(test_encodings['input_ids'], test_encodings['attention_mask'], test_labels)\n",
    "\n",
    "# Используйте DataLoader для автоматического перемещения данных на GPU\n",
    "train_loader = DataLoader(train_dataset, batch_size=8, shuffle=True, pin_memory=True)\n",
    "test_loader = DataLoader(test_dataset, batch_size=8, shuffle=False, pin_memory=True)\n",
    "\n",
    "# Инициализация модели RoBERTa для классификации на GPU\n",
    "num_classes = 2  # Замените 2 на количество классов в вашем наборе данных\n",
    "\n",
    "# Загрузка оригинальной модели RoBERTa\n",
    "original_model = AutoModelForSequenceClassification.from_pretrained('distilbert-base-uncased')\n",
    "\n",
    "# Создание новой (менее объемной) модели с использованием distill\n",
    "distil_model = AutoModelForSequenceClassification.from_pretrained('distilbert-base-uncased')\n",
    "distil_model.to(device)\n",
    "\n",
    "# Инициализация оптимизатора\n",
    "optimizer = AdamW(distil_model.parameters(), lr=5e-5)"
   ]
  },
  {
   "cell_type": "code",
   "execution_count": 8,
   "metadata": {},
   "outputs": [
    {
     "name": "stdout",
     "output_type": "stream",
     "text": [
      "Epoch 1, Batch 10/1047, Loss: 0.6710, Accuracy: 0.5125\n",
      "Epoch 1, Batch 20/1047, Loss: 0.5538, Accuracy: 0.7063\n",
      "Epoch 1, Batch 30/1047, Loss: 0.4406, Accuracy: 0.7875\n",
      "Epoch 1, Batch 40/1047, Loss: 0.3665, Accuracy: 0.8313\n",
      "Epoch 1, Batch 50/1047, Loss: 0.3242, Accuracy: 0.8550\n",
      "Epoch 1, Batch 60/1047, Loss: 0.2993, Accuracy: 0.8708\n",
      "Epoch 1, Batch 70/1047, Loss: 0.2741, Accuracy: 0.8804\n",
      "Epoch 1, Batch 80/1047, Loss: 0.2617, Accuracy: 0.8844\n",
      "Epoch 1, Batch 90/1047, Loss: 0.2444, Accuracy: 0.8917\n",
      "Epoch 1, Batch 100/1047, Loss: 0.2265, Accuracy: 0.9000\n",
      "Epoch 1, Batch 110/1047, Loss: 0.2220, Accuracy: 0.9045\n",
      "Epoch 1, Batch 120/1047, Loss: 0.2070, Accuracy: 0.9115\n",
      "Epoch 1, Batch 130/1047, Loss: 0.2149, Accuracy: 0.9087\n",
      "Epoch 1, Batch 140/1047, Loss: 0.2178, Accuracy: 0.9062\n",
      "Epoch 1, Batch 150/1047, Loss: 0.2177, Accuracy: 0.9083\n",
      "Epoch 1, Batch 160/1047, Loss: 0.2122, Accuracy: 0.9109\n",
      "Epoch 1, Batch 170/1047, Loss: 0.2081, Accuracy: 0.9132\n",
      "Epoch 1, Batch 180/1047, Loss: 0.2056, Accuracy: 0.9146\n",
      "Epoch 1, Batch 190/1047, Loss: 0.1992, Accuracy: 0.9184\n",
      "Epoch 1, Batch 200/1047, Loss: 0.1932, Accuracy: 0.9213\n",
      "Epoch 1, Batch 210/1047, Loss: 0.1874, Accuracy: 0.9238\n",
      "Epoch 1, Batch 220/1047, Loss: 0.1847, Accuracy: 0.9256\n",
      "Epoch 1, Batch 230/1047, Loss: 0.1830, Accuracy: 0.9272\n",
      "Epoch 1, Batch 240/1047, Loss: 0.1788, Accuracy: 0.9286\n",
      "Epoch 1, Batch 250/1047, Loss: 0.1747, Accuracy: 0.9310\n",
      "Epoch 1, Batch 260/1047, Loss: 0.1722, Accuracy: 0.9317\n",
      "Epoch 1, Batch 270/1047, Loss: 0.1705, Accuracy: 0.9324\n",
      "Epoch 1, Batch 280/1047, Loss: 0.1659, Accuracy: 0.9339\n",
      "Epoch 1, Batch 290/1047, Loss: 0.1615, Accuracy: 0.9358\n",
      "Epoch 1, Batch 300/1047, Loss: 0.1620, Accuracy: 0.9363\n",
      "Epoch 1, Batch 310/1047, Loss: 0.1608, Accuracy: 0.9371\n",
      "Epoch 1, Batch 320/1047, Loss: 0.1608, Accuracy: 0.9367\n",
      "Epoch 1, Batch 330/1047, Loss: 0.1613, Accuracy: 0.9364\n",
      "Epoch 1, Batch 340/1047, Loss: 0.1597, Accuracy: 0.9379\n",
      "Epoch 1, Batch 350/1047, Loss: 0.1560, Accuracy: 0.9396\n",
      "Epoch 1, Batch 360/1047, Loss: 0.1539, Accuracy: 0.9410\n",
      "Epoch 1, Batch 370/1047, Loss: 0.1543, Accuracy: 0.9409\n",
      "Epoch 1, Batch 380/1047, Loss: 0.1522, Accuracy: 0.9411\n",
      "Epoch 1, Batch 390/1047, Loss: 0.1518, Accuracy: 0.9417\n",
      "Epoch 1, Batch 400/1047, Loss: 0.1523, Accuracy: 0.9419\n",
      "Epoch 1, Batch 410/1047, Loss: 0.1501, Accuracy: 0.9430\n",
      "Epoch 1, Batch 420/1047, Loss: 0.1490, Accuracy: 0.9435\n",
      "Epoch 1, Batch 430/1047, Loss: 0.1476, Accuracy: 0.9445\n",
      "Epoch 1, Batch 440/1047, Loss: 0.1448, Accuracy: 0.9455\n",
      "Epoch 1, Batch 450/1047, Loss: 0.1442, Accuracy: 0.9461\n",
      "Epoch 1, Batch 460/1047, Loss: 0.1426, Accuracy: 0.9467\n",
      "Epoch 1, Batch 470/1047, Loss: 0.1402, Accuracy: 0.9476\n",
      "Epoch 1, Batch 480/1047, Loss: 0.1388, Accuracy: 0.9482\n",
      "Epoch 1, Batch 490/1047, Loss: 0.1366, Accuracy: 0.9490\n",
      "Epoch 1, Batch 500/1047, Loss: 0.1348, Accuracy: 0.9497\n",
      "Epoch 1, Batch 510/1047, Loss: 0.1336, Accuracy: 0.9502\n",
      "Epoch 1, Batch 520/1047, Loss: 0.1312, Accuracy: 0.9512\n",
      "Epoch 1, Batch 530/1047, Loss: 0.1326, Accuracy: 0.9512\n",
      "Epoch 1, Batch 540/1047, Loss: 0.1319, Accuracy: 0.9519\n",
      "Epoch 1, Batch 550/1047, Loss: 0.1303, Accuracy: 0.9525\n",
      "Epoch 1, Batch 560/1047, Loss: 0.1294, Accuracy: 0.9531\n",
      "Epoch 1, Batch 570/1047, Loss: 0.1290, Accuracy: 0.9533\n",
      "Epoch 1, Batch 580/1047, Loss: 0.1270, Accuracy: 0.9541\n",
      "Epoch 1, Batch 590/1047, Loss: 0.1262, Accuracy: 0.9542\n",
      "Epoch 1, Batch 600/1047, Loss: 0.1253, Accuracy: 0.9546\n",
      "Epoch 1, Batch 610/1047, Loss: 0.1240, Accuracy: 0.9549\n",
      "Epoch 1, Batch 620/1047, Loss: 0.1234, Accuracy: 0.9554\n",
      "Epoch 1, Batch 630/1047, Loss: 0.1224, Accuracy: 0.9560\n",
      "Epoch 1, Batch 640/1047, Loss: 0.1222, Accuracy: 0.9561\n",
      "Epoch 1, Batch 650/1047, Loss: 0.1222, Accuracy: 0.9562\n",
      "Epoch 1, Batch 660/1047, Loss: 0.1216, Accuracy: 0.9564\n",
      "Epoch 1, Batch 670/1047, Loss: 0.1207, Accuracy: 0.9565\n",
      "Epoch 1, Batch 680/1047, Loss: 0.1192, Accuracy: 0.9572\n",
      "Epoch 1, Batch 690/1047, Loss: 0.1190, Accuracy: 0.9574\n",
      "Epoch 1, Batch 700/1047, Loss: 0.1176, Accuracy: 0.9580\n",
      "Epoch 1, Batch 710/1047, Loss: 0.1165, Accuracy: 0.9585\n",
      "Epoch 1, Batch 720/1047, Loss: 0.1157, Accuracy: 0.9589\n",
      "Epoch 1, Batch 730/1047, Loss: 0.1159, Accuracy: 0.9586\n",
      "Epoch 1, Batch 740/1047, Loss: 0.1164, Accuracy: 0.9584\n",
      "Epoch 1, Batch 750/1047, Loss: 0.1152, Accuracy: 0.9590\n",
      "Epoch 1, Batch 760/1047, Loss: 0.1143, Accuracy: 0.9595\n",
      "Epoch 1, Batch 770/1047, Loss: 0.1133, Accuracy: 0.9597\n",
      "Epoch 1, Batch 780/1047, Loss: 0.1123, Accuracy: 0.9601\n",
      "Epoch 1, Batch 790/1047, Loss: 0.1116, Accuracy: 0.9603\n",
      "Epoch 1, Batch 800/1047, Loss: 0.1105, Accuracy: 0.9608\n",
      "Epoch 1, Batch 810/1047, Loss: 0.1099, Accuracy: 0.9611\n",
      "Epoch 1, Batch 820/1047, Loss: 0.1095, Accuracy: 0.9613\n",
      "Epoch 1, Batch 830/1047, Loss: 0.1102, Accuracy: 0.9613\n",
      "Epoch 1, Batch 840/1047, Loss: 0.1102, Accuracy: 0.9612\n",
      "Epoch 1, Batch 850/1047, Loss: 0.1101, Accuracy: 0.9612\n",
      "Epoch 1, Batch 860/1047, Loss: 0.1094, Accuracy: 0.9615\n",
      "Epoch 1, Batch 870/1047, Loss: 0.1087, Accuracy: 0.9618\n",
      "Epoch 1, Batch 880/1047, Loss: 0.1078, Accuracy: 0.9622\n",
      "Epoch 1, Batch 890/1047, Loss: 0.1073, Accuracy: 0.9625\n",
      "Epoch 1, Batch 900/1047, Loss: 0.1064, Accuracy: 0.9628\n",
      "Epoch 1, Batch 910/1047, Loss: 0.1060, Accuracy: 0.9629\n",
      "Epoch 1, Batch 920/1047, Loss: 0.1065, Accuracy: 0.9628\n",
      "Epoch 1, Batch 930/1047, Loss: 0.1056, Accuracy: 0.9632\n",
      "Epoch 1, Batch 940/1047, Loss: 0.1062, Accuracy: 0.9632\n",
      "Epoch 1, Batch 950/1047, Loss: 0.1055, Accuracy: 0.9634\n",
      "Epoch 1, Batch 960/1047, Loss: 0.1048, Accuracy: 0.9635\n",
      "Epoch 1, Batch 970/1047, Loss: 0.1046, Accuracy: 0.9634\n",
      "Epoch 1, Batch 980/1047, Loss: 0.1038, Accuracy: 0.9636\n",
      "Epoch 1, Batch 990/1047, Loss: 0.1033, Accuracy: 0.9639\n",
      "Epoch 1, Batch 1000/1047, Loss: 0.1029, Accuracy: 0.9641\n",
      "Epoch 1, Batch 1010/1047, Loss: 0.1026, Accuracy: 0.9642\n",
      "Epoch 1, Batch 1020/1047, Loss: 0.1019, Accuracy: 0.9645\n",
      "Epoch 1, Batch 1030/1047, Loss: 0.1014, Accuracy: 0.9647\n",
      "Epoch 1, Batch 1040/1047, Loss: 0.1006, Accuracy: 0.9650\n",
      "Epoch 1, Loss: 0.1000, Accuracy: 0.9653\n",
      "Test Accuracy: 0.9885\n"
     ]
    }
   ],
   "source": [
    "# Обучение модели на GPU\n",
    "num_epochs = 1\n",
    "\n",
    "for epoch in range(num_epochs):\n",
    "    distil_model.train()\n",
    "    total_loss = 0.0\n",
    "    correct_predictions = 0\n",
    "\n",
    "    for batch_num, batch in enumerate(train_loader, 1):\n",
    "        inputs = {'input_ids': batch[0].to(device), 'attention_mask': batch[1].to(device), 'labels': batch[2].to(device)}\n",
    "        optimizer.zero_grad()\n",
    "\n",
    "        with autocast():  # Используем mixed-precision training\n",
    "            outputs = distil_model(**inputs)\n",
    "            loss = outputs.loss\n",
    "\n",
    "        loss.backward()\n",
    "        optimizer.step()\n",
    "\n",
    "        # Считаем общую потерю\n",
    "        total_loss += loss.item()\n",
    "\n",
    "        # Считаем количество правильных предсказаний\n",
    "        logits = outputs.logits\n",
    "        predictions = torch.argmax(logits, dim=1)\n",
    "        correct_predictions += torch.sum(predictions == batch[2].to(device)).item()  # Перемещаем метки на устройство GPU\n",
    "\n",
    "        # Выводим лог каждые, например, 10 батчей\n",
    "        if batch_num % 10 == 0:\n",
    "            avg_loss = total_loss / batch_num\n",
    "            accuracy = correct_predictions / (batch_num * train_loader.batch_size)\n",
    "            print(f'Epoch {epoch + 1}, Batch {batch_num}/{len(train_loader)}, Loss: {avg_loss:.4f}, Accuracy: {accuracy:.4f}')\n",
    "\n",
    "    # Выводим лог в конце каждой эпохи\n",
    "    avg_loss = total_loss / len(train_loader)\n",
    "    accuracy = correct_predictions / (len(train_loader) * train_loader.batch_size)\n",
    "    print(f'Epoch {epoch + 1}, Loss: {avg_loss:.4f}, Accuracy: {accuracy:.4f}')\n",
    "\n",
    "    # Проверка точности на тестовом наборе\n",
    "    distil_model.eval()\n",
    "    all_preds = []\n",
    "    with torch.no_grad():\n",
    "        for test_batch in test_loader:\n",
    "            test_inputs = {'input_ids': test_batch[0].to(device), 'attention_mask': test_batch[1].to(device)}\n",
    "            test_outputs = distil_model(**test_inputs)\n",
    "            test_logits = test_outputs.logits\n",
    "            test_preds = torch.argmax(test_logits, dim=1)\n",
    "            all_preds.extend(test_preds.cpu().numpy())\n",
    "\n",
    "    # Вычисление и вывод точности на тестовом наборе\n",
    "    test_accuracy = accuracy_score(test_labels.cpu().numpy(), all_preds)\n",
    "    print(f'Test Accuracy: {test_accuracy:.4f}')\n"
   ]
  },
  {
   "cell_type": "code",
   "execution_count": 9,
   "metadata": {},
   "outputs": [],
   "source": [
    "# Сохранение модели\n",
    "distil_model.save_pretrained('distilbert_model')"
   ]
  }
 ],
 "metadata": {
  "kernelspec": {
   "display_name": "Python 3",
   "language": "python",
   "name": "python3"
  },
  "language_info": {
   "codemirror_mode": {
    "name": "ipython",
    "version": 3
   },
   "file_extension": ".py",
   "mimetype": "text/x-python",
   "name": "python",
   "nbconvert_exporter": "python",
   "pygments_lexer": "ipython3",
   "version": "3.10.8"
  }
 },
 "nbformat": 4,
 "nbformat_minor": 2
}
